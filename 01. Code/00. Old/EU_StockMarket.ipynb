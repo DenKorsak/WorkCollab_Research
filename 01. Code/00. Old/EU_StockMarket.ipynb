{
 "cells": [
  {
   "cell_type": "code",
   "execution_count": 1,
   "id": "55e7ba43-ba5a-405d-a196-51f87b43ffd9",
   "metadata": {
    "scrolled": true
   },
   "outputs": [
    {
     "name": "stdout",
     "output_type": "stream",
     "text": [
      "Current directory: /home/deniskorsak/Desktop/Our Research 2025\n"
     ]
    }
   ],
   "source": [
    "import os\n",
    "os.chdir(\"/home/deniskorsak/Desktop/Our Research 2025\")\n",
    "\n",
    "print(\"Current directory:\", os.getcwd())"
   ]
  },
  {
   "cell_type": "code",
   "execution_count": null,
   "id": "dcd97b57-d241-41f5-bde6-167ab74d91fb",
   "metadata": {},
   "outputs": [],
   "source": []
  },
  {
   "cell_type": "code",
   "execution_count": 8,
   "id": "c0151646-d4da-4b06-b5f4-8eb8a2db1bdd",
   "metadata": {},
   "outputs": [],
   "source": [
    "import yfinance as yf\n",
    "import pandas as pd"
   ]
  },
  {
   "cell_type": "code",
   "execution_count": null,
   "id": "70889fed-1343-4759-b678-9acce41dfd88",
   "metadata": {},
   "outputs": [],
   "source": []
  },
  {
   "cell_type": "code",
   "execution_count": 10,
   "id": "9e62e8df-f85c-4483-885f-b5bf25b09f96",
   "metadata": {},
   "outputs": [],
   "source": [
    "# --- Tickers ---\n",
    "# IMEU = iShares Core MSCI Europe UCITS ETF (London listing)\n",
    "# EXSA.DE = iShares STOXX Europe 600 UCITS ETF (Xetra listing)\n",
    "tickers = {\n",
    "    \"MSCI Europe (IMEU)\": \"IMEU.L\",\n",
    "    \"STOXX Europe 600 (EXSA)\": \"EXSA.DE\"\n",
    "}"
   ]
  },
  {
   "cell_type": "code",
   "execution_count": null,
   "id": "208081c3-5f83-4413-b0f5-afef261f1b24",
   "metadata": {},
   "outputs": [],
   "source": []
  },
  {
   "cell_type": "code",
   "execution_count": null,
   "id": "19392d7e-b4d2-4454-9dc6-b945e4c732fd",
   "metadata": {},
   "outputs": [],
   "source": []
  },
  {
   "cell_type": "code",
   "execution_count": 18,
   "id": "fd0d4570-7eba-43f1-840d-21d3b4aafa43",
   "metadata": {},
   "outputs": [],
   "source": [
    "# --- Empty DataFrame for results ---\n",
    "df = pd.DataFrame()\n",
    "\n",
    "# --- Loop through ETFs and download ---\n",
    "for name, ticker in tickers.items():   # <-- swap order\n",
    "    measure = yf.Ticker(ticker)\n",
    "    data = measure.history(period=\"max\")[[\"Close\"]]\n",
    "    data.index = data.index.tz_localize(None)   # clean timezone\n",
    "    data.rename(columns={\"Close\": name}, inplace=True)\n",
    "    \n",
    "    # Merge into main DataFrame\n",
    "    if df.empty:\n",
    "        df = data\n",
    "    else:\n",
    "        df = df.join(data, how=\"outer\")"
   ]
  },
  {
   "cell_type": "code",
   "execution_count": null,
   "id": "f84ab376-9b61-4359-bd9c-d93d19f6cbc4",
   "metadata": {},
   "outputs": [],
   "source": []
  },
  {
   "cell_type": "code",
   "execution_count": null,
   "id": "384fec69-2cd7-447a-95fa-db21636fb0da",
   "metadata": {},
   "outputs": [],
   "source": []
  },
  {
   "cell_type": "code",
   "execution_count": 19,
   "id": "8bfb6aa8-6073-40eb-bd88-deffcc2a13da",
   "metadata": {},
   "outputs": [
    {
     "name": "stdout",
     "output_type": "stream",
     "text": [
      "            MSCI Europe (IMEU)  STOXX Europe 600 (EXSA)\n",
      "Date                                                   \n",
      "2008-01-02                 NaN                24.968927\n",
      "2008-01-03                 NaN                24.893412\n",
      "2008-01-04                 NaN                24.412828\n",
      "2008-01-07                 NaN                24.364773\n",
      "2008-01-08                 NaN                24.508944\n"
     ]
    }
   ],
   "source": [
    "# --- Check result ---\n",
    "print(df.head())"
   ]
  },
  {
   "cell_type": "code",
   "execution_count": null,
   "id": "62f8e5aa-e18c-40f5-983b-827b411deb89",
   "metadata": {},
   "outputs": [],
   "source": []
  },
  {
   "cell_type": "code",
   "execution_count": null,
   "id": "5f85251b-50c7-4b1f-a97e-0cc6fe46db24",
   "metadata": {},
   "outputs": [],
   "source": []
  },
  {
   "cell_type": "code",
   "execution_count": 21,
   "id": "6258e27f-a23f-41a6-81ba-14723dc38f7b",
   "metadata": {
    "scrolled": true
   },
   "outputs": [],
   "source": [
    "df.to_excel(\"stock_market_EU.xlsx\", engine=\"openpyxl\")"
   ]
  },
  {
   "cell_type": "code",
   "execution_count": null,
   "id": "2db520b4-0d9e-4771-a2eb-8b21a8797a4d",
   "metadata": {},
   "outputs": [],
   "source": []
  },
  {
   "cell_type": "code",
   "execution_count": null,
   "id": "0286d9bb-c554-474d-98bb-609a00262b0b",
   "metadata": {},
   "outputs": [],
   "source": []
  },
  {
   "cell_type": "code",
   "execution_count": null,
   "id": "afc1edb1-d473-4252-ae98-9620f7e7c519",
   "metadata": {},
   "outputs": [],
   "source": []
  }
 ],
 "metadata": {
  "kernelspec": {
   "display_name": "Python [conda env:base] *",
   "language": "python",
   "name": "conda-base-py"
  },
  "language_info": {
   "codemirror_mode": {
    "name": "ipython",
    "version": 3
   },
   "file_extension": ".py",
   "mimetype": "text/x-python",
   "name": "python",
   "nbconvert_exporter": "python",
   "pygments_lexer": "ipython3",
   "version": "3.13.5"
  }
 },
 "nbformat": 4,
 "nbformat_minor": 5
}
