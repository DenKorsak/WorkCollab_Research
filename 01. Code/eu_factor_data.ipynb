{
 "cells": [
  {
   "cell_type": "code",
   "execution_count": 18,
   "id": "be6dfa2a-f424-4eb9-abc9-cc5d8b5f4cf9",
   "metadata": {},
   "outputs": [],
   "source": [
    "#pip install yfinance pandas openpyxl"
   ]
  },
  {
   "cell_type": "code",
   "execution_count": null,
   "id": "e5a597e9-9a26-4c4b-9fee-6fb19fa10910",
   "metadata": {},
   "outputs": [],
   "source": []
  },
  {
   "cell_type": "code",
   "execution_count": 5,
   "id": "cd0ffab9-0af6-4dba-81b4-7d7144a1c929",
   "metadata": {},
   "outputs": [],
   "source": [
    "import os\n",
    "import yfinance as yf\n",
    "import pandas as pd\n",
    "import datetime\n",
    "from pathlib import Path"
   ]
  },
  {
   "cell_type": "code",
   "execution_count": 4,
   "id": "2eca924b-a9c2-4d19-baa6-337a2f94d600",
   "metadata": {},
   "outputs": [
    {
     "data": {
      "text/plain": [
       "'/home/deniskorsak/Desktop/Master Folder/Professional/03. Research/Research 2025/01. Code'"
      ]
     },
     "execution_count": 4,
     "metadata": {},
     "output_type": "execute_result"
    }
   ],
   "source": [
    " os.getcwd()"
   ]
  },
  {
   "cell_type": "code",
   "execution_count": 3,
   "id": "4cd642c7-44ed-4aa7-81d5-1bb08386e9ac",
   "metadata": {},
   "outputs": [
    {
     "ename": "NameError",
     "evalue": "name '__file__' is not defined",
     "output_type": "error",
     "traceback": [
      "\u001b[0;31m---------------------------------------------------------------------------\u001b[0m",
      "\u001b[0;31mNameError\u001b[0m                                 Traceback (most recent call last)",
      "Cell \u001b[0;32mIn[3], line 2\u001b[0m\n\u001b[1;32m      1\u001b[0m \u001b[38;5;66;03m# --- Base project folder ---\u001b[39;00m\n\u001b[0;32m----> 2\u001b[0m base_dir \u001b[38;5;241m=\u001b[39m os\u001b[38;5;241m.\u001b[39mpath\u001b[38;5;241m.\u001b[39mabspath(os\u001b[38;5;241m.\u001b[39mpath\u001b[38;5;241m.\u001b[39mjoin(os\u001b[38;5;241m.\u001b[39mpath\u001b[38;5;241m.\u001b[39mdirname(\u001b[38;5;18m__file__\u001b[39m), \u001b[38;5;124m\"\u001b[39m\u001b[38;5;124m..\u001b[39m\u001b[38;5;124m\"\u001b[39m))\n\u001b[1;32m      4\u001b[0m \u001b[38;5;66;03m# --- Define subfolders ---\u001b[39;00m\n\u001b[1;32m      5\u001b[0m code_dir \u001b[38;5;241m=\u001b[39m os\u001b[38;5;241m.\u001b[39mpath\u001b[38;5;241m.\u001b[39mjoin(base_dir, \u001b[38;5;124m\"\u001b[39m\u001b[38;5;124m01. Code\u001b[39m\u001b[38;5;124m\"\u001b[39m)\n",
      "\u001b[0;31mNameError\u001b[0m: name '__file__' is not defined"
     ]
    }
   ],
   "source": [
    "# --- Base project folder ---\n",
    "base_dir = os.getcwd()\n",
    "\n",
    "# --- Define subfolders ---\n",
    "code_dir = os.path.join(base_dir, \"01. Code\")\n",
    "data_dir = os.path.join(base_dir, \"02. Data\")\n",
    "\n",
    "# --- Make sure folders exist ---\n",
    "os.makedirs(code_dir, exist_ok=True)\n",
    "os.makedirs(data_dir, exist_ok=True)\n",
    "\n",
    "# --- Work from code folder ---\n",
    "os.chdir(code_dir)\n",
    "\n",
    "# --- Build filename with today's date ---\n",
    "filename = f\"eu_factor_data_{datetime.date.today()}.xlsx\"\n",
    "output_file = os.path.join(data_dir, filename)\n",
    "\n",
    "print(f\"Code running from: {code_dir}\")\n",
    "print(f\"Data will be saved in: {output_file}\")"
   ]
  },
  {
   "cell_type": "code",
   "execution_count": null,
   "id": "edc23c30-65cd-4e58-bdf6-a95a6e6e609b",
   "metadata": {},
   "outputs": [],
   "source": []
  },
  {
   "cell_type": "code",
   "execution_count": 21,
   "id": "d47894be-a305-4b9e-98c6-d233cd5963e0",
   "metadata": {},
   "outputs": [],
   "source": [
    "tickers = {\n",
    "    # Equity Risk Premium [growth driver]\n",
    "    \"MSCI World (EUNL)\": \"EUNL.DE\",   # Xetra listing\n",
    "    \"MSCI Europe (IMEU)\": \"IMEU.L\",   # London listing\n",
    "    \n",
    "    # Duration Risk [LT diversifier]\n",
    "    \"Euro Gov Bonds 15-30yr (IBGL)\": \"IBGL.DE\",\n",
    "    \"Euro Gov Bonds 10Y+ (EGIL)\": \"EGIL.PA\",   # Paris listing\n",
    "    \n",
    "    # Credit Spread [credit risk]\n",
    "    \"Euro Corporate Bonds (IBCX)\": \"IBCX.DE\",\n",
    "    \"Euro High Yield (IHYG)\": \"IHYG.L\",\n",
    "    \n",
    "    # Inflation Hedge [real assets]\n",
    "    \"Euro Inflation Linked (IBCI)\": \"IBCI.DE\",\n",
    "    \"Commodities (WCOB)\": \"WCOB.L\"\n",
    "}"
   ]
  },
  {
   "cell_type": "code",
   "execution_count": null,
   "id": "fb0466a9-60e3-49e8-af70-a4bb3c719b0d",
   "metadata": {},
   "outputs": [],
   "source": []
  },
  {
   "cell_type": "code",
   "execution_count": 22,
   "id": "b1fac5a6-2085-41ed-bf28-9a6474ca590c",
   "metadata": {},
   "outputs": [],
   "source": [
    "df = pd.DataFrame()"
   ]
  },
  {
   "cell_type": "code",
   "execution_count": null,
   "id": "8d16a6be-4083-4183-adbb-cef3475b4082",
   "metadata": {},
   "outputs": [],
   "source": []
  },
  {
   "cell_type": "code",
   "execution_count": 23,
   "id": "6863ba3e-22e6-4dba-8c9c-03e60056a02a",
   "metadata": {},
   "outputs": [
    {
     "name": "stderr",
     "output_type": "stream",
     "text": [
      "$IBGL.DE: possibly delisted; no timezone found\n",
      "$EGIL.PA: possibly delisted; no timezone found\n"
     ]
    },
    {
     "name": "stdout",
     "output_type": "stream",
     "text": [
      "Error downloading Euro Gov Bonds 15-30yr (IBGL) (IBGL.DE): 'Index' object has no attribute 'tz_localize'\n",
      "Error downloading Euro Gov Bonds 10Y+ (EGIL) (EGIL.PA): 'Index' object has no attribute 'tz_localize'\n"
     ]
    }
   ],
   "source": [
    "for name, ticker in tickers.items():\n",
    "    try:\n",
    "        data = yf.Ticker(ticker).history(period=\"max\")[[\"Close\"]]\n",
    "        data.index = data.index.tz_localize(None)\n",
    "        data.rename(columns={\"Close\": name}, inplace=True)\n",
    "        \n",
    "        if df.empty:\n",
    "            df = data\n",
    "        else:\n",
    "            df = df.join(data, how=\"outer\")\n",
    "    except Exception as e:\n",
    "        print(f\"Error downloading {name} ({ticker}): {e}\")\n"
   ]
  },
  {
   "cell_type": "code",
   "execution_count": null,
   "id": "7c515b7f-9823-42af-8540-c27e6bf9f9c5",
   "metadata": {},
   "outputs": [],
   "source": []
  },
  {
   "cell_type": "code",
   "execution_count": 24,
   "id": "793da160-5335-4e7b-aaa2-c7721843b14e",
   "metadata": {},
   "outputs": [],
   "source": [
    "# --- Export to Excel ---\n",
    "df.to_excel(output_file, engine=\"openpyxl\")"
   ]
  },
  {
   "cell_type": "code",
   "execution_count": null,
   "id": "5aa34640-b918-4dca-b8f3-055ac13af9ee",
   "metadata": {},
   "outputs": [],
   "source": []
  },
  {
   "cell_type": "code",
   "execution_count": null,
   "id": "e7106e02-9cf3-43bb-8181-003e2cb05538",
   "metadata": {},
   "outputs": [],
   "source": []
  }
 ],
 "metadata": {
  "kernelspec": {
   "display_name": "Python [conda env:base] *",
   "language": "python",
   "name": "conda-base-py"
  },
  "language_info": {
   "codemirror_mode": {
    "name": "ipython",
    "version": 3
   },
   "file_extension": ".py",
   "mimetype": "text/x-python",
   "name": "python",
   "nbconvert_exporter": "python",
   "pygments_lexer": "ipython3",
   "version": "3.13.5"
  }
 },
 "nbformat": 4,
 "nbformat_minor": 5
}
