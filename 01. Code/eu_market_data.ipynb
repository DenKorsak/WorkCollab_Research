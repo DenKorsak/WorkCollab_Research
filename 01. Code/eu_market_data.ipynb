{
 "cells": [
  {
   "cell_type": "code",
   "execution_count": 9,
   "id": "f04a032a-dd0c-4472-9c4c-47d2b0784581",
   "metadata": {},
   "outputs": [],
   "source": [
    "#pip install yfinance pandas openpyxl"
   ]
  },
  {
   "cell_type": "code",
   "execution_count": null,
   "id": "09c166c5-e318-49ef-889f-f53066364a1d",
   "metadata": {},
   "outputs": [],
   "source": []
  },
  {
   "cell_type": "code",
   "execution_count": 10,
   "id": "856cea8c-b147-4620-b0f0-7766743414c6",
   "metadata": {},
   "outputs": [],
   "source": [
    "import os\n",
    "import yfinance as yf\n",
    "import pandas as pd\n",
    "import datetime"
   ]
  },
  {
   "cell_type": "code",
   "execution_count": null,
   "id": "56c585dc-efc0-4be2-a192-e94cbeb52da9",
   "metadata": {},
   "outputs": [],
   "source": [
    "/home/deniskorsak/Desktop/Master Folder/Professional/03. Research"
   ]
  },
  {
   "cell_type": "code",
   "execution_count": 11,
   "id": "70889fed-1343-4759-b678-9acce41dfd88",
   "metadata": {},
   "outputs": [
    {
     "name": "stdout",
     "output_type": "stream",
     "text": [
      "Code running from: /home/deniskorsak/Desktop/Research 2025/01. Code\n",
      "Data will be saved in: /home/deniskorsak/Desktop/Research 2025/02. Data/eu_market_data_2025-09-14.xlsx\n"
     ]
    }
   ],
   "source": [
    "# --- Base project folder ---\n",
    "base_dir = \"/home/deniskorsak/Desktop/Master Folder/Professional/03. Research\"\n",
    "\n",
    "# --- Define subfolders ---\n",
    "code_dir = os.path.join(base_dir, \"01. Code\")\n",
    "data_dir = os.path.join(base_dir, \"02. Data\")\n",
    "\n",
    "# --- Make sure folders exist ---\n",
    "os.makedirs(code_dir, exist_ok=True)\n",
    "os.makedirs(data_dir, exist_ok=True)\n",
    "\n",
    "# --- Work from code folder ---\n",
    "os.chdir(code_dir)\n",
    "\n",
    "# --- Build filename with today's date ---\n",
    "filename = f\"eu_market_data_{datetime.date.today()}.xlsx\"\n",
    "output_file = os.path.join(data_dir, filename)\n",
    "\n",
    "print(f\"Code running from: {code_dir}\")\n",
    "print(f\"Data will be saved in: {output_file}\")"
   ]
  },
  {
   "cell_type": "code",
   "execution_count": null,
   "id": "7bf16001-2701-45bd-bf7d-c9215dc4ce41",
   "metadata": {},
   "outputs": [],
   "source": []
  },
  {
   "cell_type": "code",
   "execution_count": 12,
   "id": "9e62e8df-f85c-4483-885f-b5bf25b09f96",
   "metadata": {},
   "outputs": [],
   "source": [
    "tickers = {\n",
    "    \"MSCI Europe (IMEU)\": \"IMEU.L\",\n",
    "    \"STOXX Europe 600 (EXSA)\": \"EXSA.DE\"\n",
    "}"
   ]
  },
  {
   "cell_type": "code",
   "execution_count": null,
   "id": "208081c3-5f83-4413-b0f5-afef261f1b24",
   "metadata": {},
   "outputs": [],
   "source": []
  },
  {
   "cell_type": "code",
   "execution_count": 13,
   "id": "19392d7e-b4d2-4454-9dc6-b945e4c732fd",
   "metadata": {},
   "outputs": [],
   "source": [
    "# --- Empty DataFrame for results ---\n",
    "df = pd.DataFrame()\n"
   ]
  },
  {
   "cell_type": "code",
   "execution_count": null,
   "id": "ed6017d8-3557-44b1-a081-719e7403d5f0",
   "metadata": {},
   "outputs": [],
   "source": []
  },
  {
   "cell_type": "code",
   "execution_count": 14,
   "id": "fd0d4570-7eba-43f1-840d-21d3b4aafa43",
   "metadata": {},
   "outputs": [],
   "source": [
    "for name, ticker in tickers.items():\n",
    "    try:\n",
    "        data = yf.Ticker(ticker).history(period=\"max\")[[\"Close\"]]\n",
    "        data.index = data.index.tz_localize(None)\n",
    "        data.rename(columns={\"Close\": name}, inplace=True)\n",
    "        \n",
    "        if df.empty:\n",
    "            df = data\n",
    "        else:\n",
    "            df = df.join(data, how=\"outer\")\n",
    "    except Exception as e:\n",
    "        print(f\"Error downloading {name} ({ticker}): {e}\")\n"
   ]
  },
  {
   "cell_type": "code",
   "execution_count": null,
   "id": "f84ab376-9b61-4359-bd9c-d93d19f6cbc4",
   "metadata": {},
   "outputs": [],
   "source": []
  },
  {
   "cell_type": "code",
   "execution_count": 8,
   "id": "6258e27f-a23f-41a6-81ba-14723dc38f7b",
   "metadata": {
    "scrolled": true
   },
   "outputs": [],
   "source": [
    "# --- Export to Excel ---\n",
    "df.to_excel(output_file, engine=\"openpyxl\")"
   ]
  },
  {
   "cell_type": "code",
   "execution_count": null,
   "id": "afc1edb1-d473-4252-ae98-9620f7e7c519",
   "metadata": {},
   "outputs": [],
   "source": []
  }
 ],
 "metadata": {
  "kernelspec": {
   "display_name": "Python [conda env:base] *",
   "language": "python",
   "name": "conda-base-py"
  },
  "language_info": {
   "codemirror_mode": {
    "name": "ipython",
    "version": 3
   },
   "file_extension": ".py",
   "mimetype": "text/x-python",
   "name": "python",
   "nbconvert_exporter": "python",
   "pygments_lexer": "ipython3",
   "version": "3.13.5"
  }
 },
 "nbformat": 4,
 "nbformat_minor": 5
}
